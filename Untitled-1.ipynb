{
 "cells": [
  {
   "cell_type": "code",
   "execution_count": 1,
   "metadata": {},
   "outputs": [],
   "source": [
    "from selenium import webdriver\n",
    "from bs4 import BeautifulSoup\n",
    "from selenium.webdriver import Keys\n",
    "import time"
   ]
  },
  {
   "cell_type": "code",
   "execution_count": 2,
   "metadata": {},
   "outputs": [],
   "source": [
    "website='https://jetcost.com/'\n",
    "driver_location=r'E:\\python\\chrome_driver\\chromedriver.exe'"
   ]
  },
  {
   "cell_type": "code",
   "execution_count": 3,
   "metadata": {},
   "outputs": [
    {
     "name": "stderr",
     "output_type": "stream",
     "text": [
      "C:\\Users\\MEGATASK\\AppData\\Local\\Temp\\ipykernel_11612\\830857792.py:1: DeprecationWarning: executable_path has been deprecated, please pass in a Service object\n",
      "  driver=webdriver.Chrome(executable_path=driver_location)\n"
     ]
    }
   ],
   "source": [
    "driver=webdriver.Chrome(executable_path=driver_location)\n",
    "driver.get(website)"
   ]
  },
  {
   "cell_type": "code",
   "execution_count": 4,
   "metadata": {},
   "outputs": [],
   "source": [
    "acceptCookiesButton=driver.find_element('xpath','//*[@id=\"ck-modal-container\"]/div/div/div/button')"
   ]
  },
  {
   "cell_type": "code",
   "execution_count": 5,
   "metadata": {},
   "outputs": [],
   "source": [
    "acceptCookiesButton.click()"
   ]
  },
  {
   "cell_type": "code",
   "execution_count": 9,
   "metadata": {},
   "outputs": [],
   "source": [
    "one_Way=driver.find_element('xpath','//*[@id=\"base-search-form\"]/div/div/div[2]/div/form/div[2]/div[1]/div/label[2]')"
   ]
  },
  {
   "cell_type": "code",
   "execution_count": 10,
   "metadata": {},
   "outputs": [],
   "source": [
    "one_Way.click()"
   ]
  },
  {
   "cell_type": "code",
   "execution_count": 11,
   "metadata": {},
   "outputs": [],
   "source": [
    "departure_arrival={\"LAS\":\"LAX\",\n",
    "                    \"HNL\":\"OGG\",\n",
    "\"JFK\":\"LAX\",\n",
    "\"LGA\":\"ORD\",\n",
    "\"DEN\":\"LAS\",\n",
    "\"ATL\":\"MCO\",\n",
    "\"LAX\":\"ORD\",\n",
    "\"LAX\":\"SFO\",\n",
    "\"DEN\":\"PHX\",\n",
    "\"DFW\":\"LAX\",\n",
    "\n",
    "}\n",
    "\n",
    "derparture=[\"LAS\",\"HNL\",\"JFK\",\"LGA\",\"DEN\",\"ATL\",\"LAX\",\"LAX\",\"DEN\",\"DFW\"]\n",
    "arrival=[\"LAX\",\"OGG\",\"LAX\",\"ORD\",\"LAS\",\"MCO\",\"ORD\",\"SFO\",\"PHX\",\"LAX\"]\n"
   ]
  },
  {
   "cell_type": "code",
   "execution_count": 42,
   "metadata": {},
   "outputs": [],
   "source": [
    "departInput=driver.find_element('xpath','//*[@id=\"originFrom\"]')"
   ]
  },
  {
   "cell_type": "code",
   "execution_count": 43,
   "metadata": {},
   "outputs": [],
   "source": [
    "departInput.clear()\n",
    "time.sleep(0.1)\n",
    "departInput.send_keys(\"NEW YORK\")\n",
    "time.sleep(1)\n",
    "departInput.send_keys(Keys.ENTER)"
   ]
  },
  {
   "cell_type": "code",
   "execution_count": 44,
   "metadata": {},
   "outputs": [],
   "source": [
    "arrivalInput=driver.find_element('xpath','//*[@id=\"originTo\"]')"
   ]
  },
  {
   "cell_type": "code",
   "execution_count": 45,
   "metadata": {},
   "outputs": [],
   "source": [
    "# len(arrivalInput)\n",
    "time.sleep(0.1)\n",
    "arrivalInput.send_keys(\"Delhi\")\n",
    "time.sleep(1)\n",
    "arrivalInput.send_keys(Keys.ENTER)"
   ]
  },
  {
   "cell_type": "code",
   "execution_count": 48,
   "metadata": {},
   "outputs": [
    {
     "ename": "NoSuchElementException",
     "evalue": "Message: no such element: Unable to locate element: {\"method\":\"xpath\",\"selector\":\"//*[@id=\"base-search-form\"]/div/div/div[2]/div/form/div[2]/div[2]/div[1]/div[2]/div[1]/div/div[2]/input\"}\n  (Session info: chrome=107.0.5304.88)\nStacktrace:\nBacktrace:\n\tOrdinal0 [0x00CCACD3+2075859]\n\tOrdinal0 [0x00C5EE61+1633889]\n\tOrdinal0 [0x00B5B7BD+571325]\n\tOrdinal0 [0x00B8AC2F+764975]\n\tOrdinal0 [0x00B8AE1B+765467]\n\tOrdinal0 [0x00BBD0F2+970994]\n\tOrdinal0 [0x00BA7364+881508]\n\tOrdinal0 [0x00BBB56A+963946]\n\tOrdinal0 [0x00BA7136+880950]\n\tOrdinal0 [0x00B7FEFD+720637]\n\tOrdinal0 [0x00B80F3F+724799]\n\tGetHandleVerifier [0x00F7EED2+2769538]\n\tGetHandleVerifier [0x00F70D95+2711877]\n\tGetHandleVerifier [0x00D5A03A+521194]\n\tGetHandleVerifier [0x00D58DA0+516432]\n\tOrdinal0 [0x00C6682C+1665068]\n\tOrdinal0 [0x00C6B128+1683752]\n\tOrdinal0 [0x00C6B215+1683989]\n\tOrdinal0 [0x00C76484+1729668]\n\tBaseThreadInitThunk [0x77BDFA29+25]\n\tRtlGetAppContainerNamedObjectPath [0x77D57BBE+286]\n\tRtlGetAppContainerNamedObjectPath [0x77D57B8E+238]\n",
     "output_type": "error",
     "traceback": [
      "\u001b[1;31m---------------------------------------------------------------------------\u001b[0m",
      "\u001b[1;31mNoSuchElementException\u001b[0m                    Traceback (most recent call last)",
      "Cell \u001b[1;32mIn [48], line 1\u001b[0m\n\u001b[1;32m----> 1\u001b[0m date_input\u001b[39m=\u001b[39mdriver\u001b[39m.\u001b[39;49mfind_element(\u001b[39m'\u001b[39;49m\u001b[39mxpath\u001b[39;49m\u001b[39m'\u001b[39;49m,\u001b[39m'\u001b[39;49m\u001b[39m//*[@id=\u001b[39;49m\u001b[39m\"\u001b[39;49m\u001b[39mbase-search-form\u001b[39;49m\u001b[39m\"\u001b[39;49m\u001b[39m]/div/div/div[2]/div/form/div[2]/div[2]/div[1]/div[2]/div[1]/div/div[2]/input\u001b[39;49m\u001b[39m'\u001b[39;49m)\n",
      "File \u001b[1;32me:\\python\\scrapper\\lib\\site-packages\\selenium\\webdriver\\remote\\webdriver.py:856\u001b[0m, in \u001b[0;36mWebDriver.find_element\u001b[1;34m(self, by, value)\u001b[0m\n\u001b[0;32m    853\u001b[0m     by \u001b[39m=\u001b[39m By\u001b[39m.\u001b[39mCSS_SELECTOR\n\u001b[0;32m    854\u001b[0m     value \u001b[39m=\u001b[39m \u001b[39m'\u001b[39m\u001b[39m[name=\u001b[39m\u001b[39m\"\u001b[39m\u001b[39m%s\u001b[39;00m\u001b[39m\"\u001b[39m\u001b[39m]\u001b[39m\u001b[39m'\u001b[39m \u001b[39m%\u001b[39m value\n\u001b[1;32m--> 856\u001b[0m \u001b[39mreturn\u001b[39;00m \u001b[39mself\u001b[39;49m\u001b[39m.\u001b[39;49mexecute(Command\u001b[39m.\u001b[39;49mFIND_ELEMENT, {\n\u001b[0;32m    857\u001b[0m     \u001b[39m'\u001b[39;49m\u001b[39musing\u001b[39;49m\u001b[39m'\u001b[39;49m: by,\n\u001b[0;32m    858\u001b[0m     \u001b[39m'\u001b[39;49m\u001b[39mvalue\u001b[39;49m\u001b[39m'\u001b[39;49m: value})[\u001b[39m'\u001b[39m\u001b[39mvalue\u001b[39m\u001b[39m'\u001b[39m]\n",
      "File \u001b[1;32me:\\python\\scrapper\\lib\\site-packages\\selenium\\webdriver\\remote\\webdriver.py:429\u001b[0m, in \u001b[0;36mWebDriver.execute\u001b[1;34m(self, driver_command, params)\u001b[0m\n\u001b[0;32m    427\u001b[0m response \u001b[39m=\u001b[39m \u001b[39mself\u001b[39m\u001b[39m.\u001b[39mcommand_executor\u001b[39m.\u001b[39mexecute(driver_command, params)\n\u001b[0;32m    428\u001b[0m \u001b[39mif\u001b[39;00m response:\n\u001b[1;32m--> 429\u001b[0m     \u001b[39mself\u001b[39;49m\u001b[39m.\u001b[39;49merror_handler\u001b[39m.\u001b[39;49mcheck_response(response)\n\u001b[0;32m    430\u001b[0m     response[\u001b[39m'\u001b[39m\u001b[39mvalue\u001b[39m\u001b[39m'\u001b[39m] \u001b[39m=\u001b[39m \u001b[39mself\u001b[39m\u001b[39m.\u001b[39m_unwrap_value(\n\u001b[0;32m    431\u001b[0m         response\u001b[39m.\u001b[39mget(\u001b[39m'\u001b[39m\u001b[39mvalue\u001b[39m\u001b[39m'\u001b[39m, \u001b[39mNone\u001b[39;00m))\n\u001b[0;32m    432\u001b[0m     \u001b[39mreturn\u001b[39;00m response\n",
      "File \u001b[1;32me:\\python\\scrapper\\lib\\site-packages\\selenium\\webdriver\\remote\\errorhandler.py:243\u001b[0m, in \u001b[0;36mErrorHandler.check_response\u001b[1;34m(self, response)\u001b[0m\n\u001b[0;32m    241\u001b[0m         alert_text \u001b[39m=\u001b[39m value[\u001b[39m'\u001b[39m\u001b[39malert\u001b[39m\u001b[39m'\u001b[39m]\u001b[39m.\u001b[39mget(\u001b[39m'\u001b[39m\u001b[39mtext\u001b[39m\u001b[39m'\u001b[39m)\n\u001b[0;32m    242\u001b[0m     \u001b[39mraise\u001b[39;00m exception_class(message, screen, stacktrace, alert_text)  \u001b[39m# type: ignore[call-arg]  # mypy is not smart enough here\u001b[39;00m\n\u001b[1;32m--> 243\u001b[0m \u001b[39mraise\u001b[39;00m exception_class(message, screen, stacktrace)\n",
      "\u001b[1;31mNoSuchElementException\u001b[0m: Message: no such element: Unable to locate element: {\"method\":\"xpath\",\"selector\":\"//*[@id=\"base-search-form\"]/div/div/div[2]/div/form/div[2]/div[2]/div[1]/div[2]/div[1]/div/div[2]/input\"}\n  (Session info: chrome=107.0.5304.88)\nStacktrace:\nBacktrace:\n\tOrdinal0 [0x00CCACD3+2075859]\n\tOrdinal0 [0x00C5EE61+1633889]\n\tOrdinal0 [0x00B5B7BD+571325]\n\tOrdinal0 [0x00B8AC2F+764975]\n\tOrdinal0 [0x00B8AE1B+765467]\n\tOrdinal0 [0x00BBD0F2+970994]\n\tOrdinal0 [0x00BA7364+881508]\n\tOrdinal0 [0x00BBB56A+963946]\n\tOrdinal0 [0x00BA7136+880950]\n\tOrdinal0 [0x00B7FEFD+720637]\n\tOrdinal0 [0x00B80F3F+724799]\n\tGetHandleVerifier [0x00F7EED2+2769538]\n\tGetHandleVerifier [0x00F70D95+2711877]\n\tGetHandleVerifier [0x00D5A03A+521194]\n\tGetHandleVerifier [0x00D58DA0+516432]\n\tOrdinal0 [0x00C6682C+1665068]\n\tOrdinal0 [0x00C6B128+1683752]\n\tOrdinal0 [0x00C6B215+1683989]\n\tOrdinal0 [0x00C76484+1729668]\n\tBaseThreadInitThunk [0x77BDFA29+25]\n\tRtlGetAppContainerNamedObjectPath [0x77D57BBE+286]\n\tRtlGetAppContainerNamedObjectPath [0x77D57B8E+238]\n"
     ]
    }
   ],
   "source": [
    "date_input=driver.find_element('xpath','//*[@id=\"base-search-form\"]/div/div/div[2]/div/form/div[2]/div[2]/div[1]/div[2]/div[1]/div/div[2]/input')"
   ]
  },
  {
   "cell_type": "markdown",
   "metadata": {},
   "source": [
    "//*[@id=\"main-content\"]/div[1]/div/div[2]/div/form/div[2]/div[2]/div[1]/div[2]/div[1]/div/div[2]/input bn  "
   ]
  },
  {
   "cell_type": "code",
   "execution_count": 47,
   "metadata": {},
   "outputs": [
    {
     "ename": "StaleElementReferenceException",
     "evalue": "Message: stale element reference: element is not attached to the page document\n  (Session info: chrome=107.0.5304.88)\nStacktrace:\nBacktrace:\n\tOrdinal0 [0x00CCACD3+2075859]\n\tOrdinal0 [0x00C5EE61+1633889]\n\tOrdinal0 [0x00B5B7BD+571325]\n\tOrdinal0 [0x00B5E374+582516]\n\tOrdinal0 [0x00B5E225+582181]\n\tOrdinal0 [0x00B5E4C0+582848]\n\tOrdinal0 [0x00B8C654+771668]\n\tOrdinal0 [0x00B81AED+727789]\n\tOrdinal0 [0x00BA731C+881436]\n\tOrdinal0 [0x00B815BF+726463]\n\tOrdinal0 [0x00BA7534+881972]\n\tOrdinal0 [0x00BBB56A+963946]\n\tOrdinal0 [0x00BA7136+880950]\n\tOrdinal0 [0x00B7FEFD+720637]\n\tOrdinal0 [0x00B80F3F+724799]\n\tGetHandleVerifier [0x00F7EED2+2769538]\n\tGetHandleVerifier [0x00F70D95+2711877]\n\tGetHandleVerifier [0x00D5A03A+521194]\n\tGetHandleVerifier [0x00D58DA0+516432]\n\tOrdinal0 [0x00C6682C+1665068]\n\tOrdinal0 [0x00C6B128+1683752]\n\tOrdinal0 [0x00C6B215+1683989]\n\tOrdinal0 [0x00C76484+1729668]\n\tBaseThreadInitThunk [0x77BDFA29+25]\n\tRtlGetAppContainerNamedObjectPath [0x77D57BBE+286]\n\tRtlGetAppContainerNamedObjectPath [0x77D57B8E+238]\n",
     "output_type": "error",
     "traceback": [
      "\u001b[1;31m---------------------------------------------------------------------------\u001b[0m",
      "\u001b[1;31mStaleElementReferenceException\u001b[0m            Traceback (most recent call last)",
      "Cell \u001b[1;32mIn [47], line 1\u001b[0m\n\u001b[1;32m----> 1\u001b[0m date_input\u001b[39m.\u001b[39;49mclick()\n",
      "File \u001b[1;32me:\\python\\scrapper\\lib\\site-packages\\selenium\\webdriver\\remote\\webelement.py:88\u001b[0m, in \u001b[0;36mWebElement.click\u001b[1;34m(self)\u001b[0m\n\u001b[0;32m     86\u001b[0m \u001b[39mdef\u001b[39;00m \u001b[39mclick\u001b[39m(\u001b[39mself\u001b[39m) \u001b[39m-\u001b[39m\u001b[39m>\u001b[39m \u001b[39mNone\u001b[39;00m:\n\u001b[0;32m     87\u001b[0m     \u001b[39m\"\"\"Clicks the element.\"\"\"\u001b[39;00m\n\u001b[1;32m---> 88\u001b[0m     \u001b[39mself\u001b[39;49m\u001b[39m.\u001b[39;49m_execute(Command\u001b[39m.\u001b[39;49mCLICK_ELEMENT)\n",
      "File \u001b[1;32me:\\python\\scrapper\\lib\\site-packages\\selenium\\webdriver\\remote\\webelement.py:396\u001b[0m, in \u001b[0;36mWebElement._execute\u001b[1;34m(self, command, params)\u001b[0m\n\u001b[0;32m    394\u001b[0m     params \u001b[39m=\u001b[39m {}\n\u001b[0;32m    395\u001b[0m params[\u001b[39m'\u001b[39m\u001b[39mid\u001b[39m\u001b[39m'\u001b[39m] \u001b[39m=\u001b[39m \u001b[39mself\u001b[39m\u001b[39m.\u001b[39m_id\n\u001b[1;32m--> 396\u001b[0m \u001b[39mreturn\u001b[39;00m \u001b[39mself\u001b[39;49m\u001b[39m.\u001b[39;49m_parent\u001b[39m.\u001b[39;49mexecute(command, params)\n",
      "File \u001b[1;32me:\\python\\scrapper\\lib\\site-packages\\selenium\\webdriver\\remote\\webdriver.py:429\u001b[0m, in \u001b[0;36mWebDriver.execute\u001b[1;34m(self, driver_command, params)\u001b[0m\n\u001b[0;32m    427\u001b[0m response \u001b[39m=\u001b[39m \u001b[39mself\u001b[39m\u001b[39m.\u001b[39mcommand_executor\u001b[39m.\u001b[39mexecute(driver_command, params)\n\u001b[0;32m    428\u001b[0m \u001b[39mif\u001b[39;00m response:\n\u001b[1;32m--> 429\u001b[0m     \u001b[39mself\u001b[39;49m\u001b[39m.\u001b[39;49merror_handler\u001b[39m.\u001b[39;49mcheck_response(response)\n\u001b[0;32m    430\u001b[0m     response[\u001b[39m'\u001b[39m\u001b[39mvalue\u001b[39m\u001b[39m'\u001b[39m] \u001b[39m=\u001b[39m \u001b[39mself\u001b[39m\u001b[39m.\u001b[39m_unwrap_value(\n\u001b[0;32m    431\u001b[0m         response\u001b[39m.\u001b[39mget(\u001b[39m'\u001b[39m\u001b[39mvalue\u001b[39m\u001b[39m'\u001b[39m, \u001b[39mNone\u001b[39;00m))\n\u001b[0;32m    432\u001b[0m     \u001b[39mreturn\u001b[39;00m response\n",
      "File \u001b[1;32me:\\python\\scrapper\\lib\\site-packages\\selenium\\webdriver\\remote\\errorhandler.py:243\u001b[0m, in \u001b[0;36mErrorHandler.check_response\u001b[1;34m(self, response)\u001b[0m\n\u001b[0;32m    241\u001b[0m         alert_text \u001b[39m=\u001b[39m value[\u001b[39m'\u001b[39m\u001b[39malert\u001b[39m\u001b[39m'\u001b[39m]\u001b[39m.\u001b[39mget(\u001b[39m'\u001b[39m\u001b[39mtext\u001b[39m\u001b[39m'\u001b[39m)\n\u001b[0;32m    242\u001b[0m     \u001b[39mraise\u001b[39;00m exception_class(message, screen, stacktrace, alert_text)  \u001b[39m# type: ignore[call-arg]  # mypy is not smart enough here\u001b[39;00m\n\u001b[1;32m--> 243\u001b[0m \u001b[39mraise\u001b[39;00m exception_class(message, screen, stacktrace)\n",
      "\u001b[1;31mStaleElementReferenceException\u001b[0m: Message: stale element reference: element is not attached to the page document\n  (Session info: chrome=107.0.5304.88)\nStacktrace:\nBacktrace:\n\tOrdinal0 [0x00CCACD3+2075859]\n\tOrdinal0 [0x00C5EE61+1633889]\n\tOrdinal0 [0x00B5B7BD+571325]\n\tOrdinal0 [0x00B5E374+582516]\n\tOrdinal0 [0x00B5E225+582181]\n\tOrdinal0 [0x00B5E4C0+582848]\n\tOrdinal0 [0x00B8C654+771668]\n\tOrdinal0 [0x00B81AED+727789]\n\tOrdinal0 [0x00BA731C+881436]\n\tOrdinal0 [0x00B815BF+726463]\n\tOrdinal0 [0x00BA7534+881972]\n\tOrdinal0 [0x00BBB56A+963946]\n\tOrdinal0 [0x00BA7136+880950]\n\tOrdinal0 [0x00B7FEFD+720637]\n\tOrdinal0 [0x00B80F3F+724799]\n\tGetHandleVerifier [0x00F7EED2+2769538]\n\tGetHandleVerifier [0x00F70D95+2711877]\n\tGetHandleVerifier [0x00D5A03A+521194]\n\tGetHandleVerifier [0x00D58DA0+516432]\n\tOrdinal0 [0x00C6682C+1665068]\n\tOrdinal0 [0x00C6B128+1683752]\n\tOrdinal0 [0x00C6B215+1683989]\n\tOrdinal0 [0x00C76484+1729668]\n\tBaseThreadInitThunk [0x77BDFA29+25]\n\tRtlGetAppContainerNamedObjectPath [0x77D57BBE+286]\n\tRtlGetAppContainerNamedObjectPath [0x77D57B8E+238]\n"
     ]
    }
   ],
   "source": [
    "date_input.click()"
   ]
  },
  {
   "cell_type": "code",
   "execution_count": 31,
   "metadata": {},
   "outputs": [],
   "source": [
    "dates=driver.find_elements('xpath','//*[@id=\"base-search-form\"]/div/div/div[2]/div/form/div[2]/div[2]/div[1]/div[2]/div[1]/div/div[3]/div[1]/div[1]/div[2]/div[3]/div[@class!=\"flex flex-1 before:pt-[100%] before:float-left before:content-[' '] relative group cursor-default\"]')"
   ]
  },
  {
   "cell_type": "code",
   "execution_count": 34,
   "metadata": {},
   "outputs": [],
   "source": [
    "dates[3].click()"
   ]
  },
  {
   "cell_type": "code",
   "execution_count": 14,
   "metadata": {},
   "outputs": [],
   "source": []
  },
  {
   "cell_type": "code",
   "execution_count": 35,
   "metadata": {},
   "outputs": [],
   "source": [
    "date_ok_button=driver.find_element('xpath','//*[@id=\"base-search-form\"]/div/div/div[2]/div/form/div[2]/div[2]/div[1]/div[2]/div[1]/div/div[3]/div[1]/div[2]/div/button')"
   ]
  },
  {
   "cell_type": "code",
   "execution_count": 36,
   "metadata": {},
   "outputs": [],
   "source": [
    "date_ok_button.click()"
   ]
  },
  {
   "cell_type": "code",
   "execution_count": 37,
   "metadata": {},
   "outputs": [],
   "source": [
    "searchButton=driver.find_element('xpath','//*[@id=\"base-search-form\"]/div/div/div[2]/div/form/div[2]/div[2]/div[2]/div/div[2]/button')"
   ]
  },
  {
   "cell_type": "code",
   "execution_count": 38,
   "metadata": {},
   "outputs": [],
   "source": [
    "searchButton.click()"
   ]
  },
  {
   "cell_type": "markdown",
   "metadata": {},
   "source": [
    "//*[@id=\"base-search-form\"]/div/div/div[2]/div/form/div[2]/div[2]/div[1]/div[2]/div[1]/div/div[3]/div[1]/div[1]/div[2]/div[3]/div[@class!=\"flex flex-1 before:pt-[100%] before:float-left before:content-[' '] relative group cursor-default\"]\n"
   ]
  },
  {
   "cell_type": "code",
   "execution_count": 124,
   "metadata": {},
   "outputs": [],
   "source": [
    "driver.back()"
   ]
  },
  {
   "cell_type": "code",
   "execution_count": 39,
   "metadata": {},
   "outputs": [],
   "source": [
    "p = driver.current_window_handle\n",
    "parent = driver.window_handles[0]\n",
    "chld = driver.window_handles[1]\n",
    "driver.switch_to.window(chld)"
   ]
  },
  {
   "cell_type": "code",
   "execution_count": 40,
   "metadata": {},
   "outputs": [],
   "source": [
    "page=driver.page_source\n",
    "soup=BeautifulSoup(page,'lxml')"
   ]
  },
  {
   "cell_type": "code",
   "execution_count": 41,
   "metadata": {},
   "outputs": [
    {
     "name": "stdout",
     "output_type": "stream",
     "text": [
      "\n",
      "\n",
      "\n",
      "\n",
      "\n",
      "\n",
      "\n",
      "\n",
      "\n",
      "\n",
      "\n",
      "\n",
      "\n",
      "\n",
      "\n",
      "\n",
      "\n",
      "\n",
      "\n",
      "\n"
     ]
    }
   ],
   "source": [
    "for section in driver.find_elements('xpath','//*[@id=\"main-content\"]/div[3]/div[3]/div/div[2]/div/div[1]/div/section/article'):\n",
    "    print(section.find_element('xpath','//span').text)"
   ]
  },
  {
   "cell_type": "code",
   "execution_count": 67,
   "metadata": {},
   "outputs": [],
   "source": [
    "data=soup.find('article')"
   ]
  },
  {
   "cell_type": "code",
   "execution_count": 68,
   "metadata": {},
   "outputs": [
    {
     "data": {
      "text/plain": [
       "<article><!-- --> <!-- --> <!-- --> <section class=\"mb-4 cursor-pointer bg-white select-none group shadow hover:shadow-md rounded-lg\" data-prevent-eu=\"\" data-uuid=\"ea20799a7ffa44d845d709c2120285fc\" id=\"itinerary_0\"><div><!-- --> <div><div class=\"flex items-center flex-col md:flex-row flex-wrap\"><div class=\"w-full md:w-9/12 px-3 my-3 md:border-dashed md:border-r md:border-primary-200 md:py-6\"><!-- --> <!-- --> <div><div class=\"sm:items-start even:mt-4 md:even:mt-4\"><div class=\"flex items-center\"><div class=\"w-auto px-1 sm:self-center sm:mb-2 md:mb-1\"><div class=\"v-popover\"><div aria-describedby=\"popover_ccbgyvdbst\" class=\"trigger\" style=\"display: inline-block;\"><img alt=\"Flight carrier\" class=\"w-6 sm:w-8 h-auto\" loading=\"lazy\" src=\"https://jtc-fm.meta-cdn.net/cdn-cgi/image/width=64,height=64,fit=crop,gravity=auto/upload/auto/carriers/icons/original/57.png\"/> </div> </div> <!-- --></div> <div class=\"flex-1 px-1 min-w-0\"><div class=\"flex flex-col sm:flex-row-reverse text-right sm:items-end text-md sm:text-base md:text-sm lg:text-base mb-[2px] sm:mb-[2px] sm:leading-none\"><span class=\"font-bold sm:ml-1 lg:ml-2 md:text-md lg:text-lg xl:text-base\">20:15</span> <span class=\"text-gray-600 inline-block md:mb-px lg:mb-0\">\n",
       "                                            EWR\n",
       "                                        </span></div> <div class=\"hidden sm:flex flex-col text-right text-gray-600\"><span class=\"text-md md:text-sm font-bold truncate\">New York</span> <span class=\"text-sm truncate\">Newark</span></div></div> <div class=\"w-1/4 text-center px-1 lg:px-3 text-gray\"><span class=\"text-sm block text-gray-600 truncate mb-1\">15h 5m</span> <div class=\"flex flex-row\"><ul class=\"flights-itinerary-duration-graph max-w-[8rem] mx-auto\"></ul></div> <span class=\"text-sm block mt-1 truncate text-lime-600\">Direct</span></div> <div class=\"flex-1 px-1 min-w-0\"><div class=\"flex flex-col sm:flex-row text-left sm:items-end text-md sm:text-base md:text-sm lg:text-base sm:mb-[2px] sm:leading-none\"><span class=\"font-bold sm:mr-1 lg:mr-2 md:text-md lg:text-lg xl:text-base\">20:50<sup class=\"font-normal text-gray-600 text-xs ml-px\">+1</sup></span> <span class=\"text-gray-600 inline-block md:mb-px lg:mb-0\">\n",
       "                                            DEL\n",
       "                                        </span></div> <div class=\"hidden sm:flex flex-col text-left text-gray-600\"><span class=\"text-md md:text-sm font-bold truncate\">Delhi</span> <span class=\"text-sm truncate\">Indira Gandhi International</span></div></div></div></div></div></div> <div class=\"w-full md:w-3/12 p-3 border-t border-primary-200 md:border-t-0\"><div class=\"flex md:flex-col-reverse items-center justify-between text-secondary\"><div class=\"flex flex-col text-black\"><!-- --> <span class=\"text-base inline-block md:text-center md:mt-2\">eDreams</span></div> <button class=\"hidden md:block btn btn-sm text-md btn-secondary\" type=\"button\">Voir l’offre</button> <div class=\"flex-1 md:flex-initial md:w-full text-right md:text-center\" id=\"chars_resizer_ea20799a7ffa44d845d709c2120285fc\"><!-- --> <span class=\"inline-block font-bold md:text-black text-xl md:text-3xl md:mb-2 whitespace-nowrap\">\n",
       "                                1 162 €<span class=\"ml-2 md:hidden jc jc-chevron-right inline-block text-md align-top leading-loose\"></span></span></div></div></div></div></div> <!-- --> <div class=\"w-full pt-0 p-3 md:p-2 md:border-t md:border-primary-200\"><div class=\"flex flex-row items-center justify-between text-md -m-3 p-3 md:-m-2 md:p-2\" data-ga-event-action=\"ProductCard: Click\" data-ga-event-category=\"ProductCard\" data-ga-event-click=\"\" data-ga-event-label=\"Click: Open Offers\"><div><span class=\"md:hidden text-primary\">7 offres</span> <span class=\"hidden md:inline\"><!-- --> <span class=\"bg-transparent text-primary text-sm hover:underline\">Go Voyages 1 176 €</span></span><span class=\"hidden md:inline\"><span class=\"ml-2 mr-1 align-top text-gray-300\">|</span> <span class=\"bg-transparent text-primary text-sm hover:underline\">opodo 1 177 €</span></span><span class=\"hidden md:inline\"><span class=\"ml-2 mr-1 align-top text-gray-300\">|</span> <span class=\"bg-transparent text-primary text-sm hover:underline\">mytrip 1 177 €</span></span></div> <span class=\"jc text-primary jc-chevron-down\"></span></div> <div class=\"mt-3 -mb-3 md:mt-2 md:-mb-2\" style=\"display: none;\"><div class=\"flex flex-row items-center justify-between my-3 pt-3 md:my-2 md:pt-2 first:border-0 border-t border-primary-200\"><div class=\"flex flex-col text-black\"><span class=\"text-md inline-block text-center\">Go Voyages</span></div> <div class=\"flex items-center text-secondary\"><span class=\"font-bold inline-block md:text-black text-xl md:text-md whitespace-nowrap\">1 176 €<span class=\"ml-2 md:hidden jc jc-chevron-right inline-block text-md align-top leading-loose\"></span></span> <button class=\"hidden md:block btn btn-xs ml-2 btn-secondary\" type=\"button\">Voir l’offre</button></div></div><div class=\"flex flex-row items-center justify-between my-3 pt-3 md:my-2 md:pt-2 first:border-0 border-t border-primary-200\"><div class=\"flex flex-col text-black\"><span class=\"text-md inline-block text-center\">opodo</span></div> <div class=\"flex items-center text-secondary\"><span class=\"font-bold inline-block md:text-black text-xl md:text-md whitespace-nowrap\">1 177 €<span class=\"ml-2 md:hidden jc jc-chevron-right inline-block text-md align-top leading-loose\"></span></span> <button class=\"hidden md:block btn btn-xs ml-2 btn-secondary\" type=\"button\">Voir l’offre</button></div></div><div class=\"flex flex-row items-center justify-between my-3 pt-3 md:my-2 md:pt-2 first:border-0 border-t border-primary-200\"><div class=\"flex flex-col text-black\"><span class=\"text-md inline-block text-center\">mytrip</span></div> <div class=\"flex items-center text-secondary\"><span class=\"font-bold inline-block md:text-black text-xl md:text-md whitespace-nowrap\">1 177 €<span class=\"ml-2 md:hidden jc jc-chevron-right inline-block text-md align-top leading-loose\"></span></span> <button class=\"hidden md:block btn btn-xs ml-2 btn-secondary\" type=\"button\">Voir l’offre</button></div></div><div class=\"flex flex-row items-center justify-between my-3 pt-3 md:my-2 md:pt-2 first:border-0 border-t border-primary-200\"><div class=\"flex flex-col text-black\"><span class=\"text-md inline-block text-center\">bravofly</span></div> <div class=\"flex items-center text-secondary\"><span class=\"font-bold inline-block md:text-black text-xl md:text-md whitespace-nowrap\">1 187 €<span class=\"ml-2 md:hidden jc jc-chevron-right inline-block text-md align-top leading-loose\"></span></span> <button class=\"hidden md:block btn btn-xs ml-2 btn-secondary\" type=\"button\">Voir l’offre</button></div></div><div class=\"flex flex-row items-center justify-between my-3 pt-3 md:my-2 md:pt-2 first:border-0 border-t border-primary-200\"><div class=\"flex flex-col text-black\"><span class=\"text-md inline-block text-center\">lastminute.com</span></div> <div class=\"flex items-center text-secondary\"><span class=\"font-bold inline-block md:text-black text-xl md:text-md whitespace-nowrap\">1 187 €<span class=\"ml-2 md:hidden jc jc-chevron-right inline-block text-md align-top leading-loose\"></span></span> <button class=\"hidden md:block btn btn-xs ml-2 btn-secondary\" type=\"button\">Voir l’offre</button></div></div><div class=\"flex flex-row items-center justify-between my-3 pt-3 md:my-2 md:pt-2 first:border-0 border-t border-primary-200\"><div class=\"flex flex-col text-black\"><span class=\"text-md inline-block text-center\">Gotogate</span></div> <div class=\"flex items-center text-secondary\"><span class=\"font-bold inline-block md:text-black text-xl md:text-md whitespace-nowrap\">1 198 €<span class=\"ml-2 md:hidden jc jc-chevron-right inline-block text-md align-top leading-loose\"></span></span> <button class=\"hidden md:block btn btn-xs ml-2 btn-secondary\" type=\"button\">Voir l’offre</button></div></div><div class=\"flex flex-row items-center justify-between my-3 pt-3 md:my-2 md:pt-2 first:border-0 border-t border-primary-200\"><div class=\"flex flex-col text-black\"><span class=\"text-md inline-block text-center\">Supersaver</span></div> <div class=\"flex items-center text-secondary\"><span class=\"font-bold inline-block md:text-black text-xl md:text-md whitespace-nowrap\">1 198 €<span class=\"ml-2 md:hidden jc jc-chevron-right inline-block text-md align-top leading-loose\"></span></span> <button class=\"hidden md:block btn btn-xs ml-2 btn-secondary\" type=\"button\">Voir l’offre</button></div></div></div></div></div> <!-- --></section> <!-- --></article>"
      ]
     },
     "execution_count": 68,
     "metadata": {},
     "output_type": "execute_result"
    }
   ],
   "source": [
    "data\n"
   ]
  },
  {
   "cell_type": "code",
   "execution_count": null,
   "metadata": {},
   "outputs": [],
   "source": [
    "driver.close()"
   ]
  }
 ],
 "metadata": {
  "kernelspec": {
   "display_name": "Python 3.9.5 ('scrapper': venv)",
   "language": "python",
   "name": "python3"
  },
  "language_info": {
   "codemirror_mode": {
    "name": "ipython",
    "version": 3
   },
   "file_extension": ".py",
   "mimetype": "text/x-python",
   "name": "python",
   "nbconvert_exporter": "python",
   "pygments_lexer": "ipython3",
   "version": "3.9.5"
  },
  "orig_nbformat": 4,
  "vscode": {
   "interpreter": {
    "hash": "506a0d13f91df96375874f1b05449af7914041e2858d76008eeb27bd9afbcd7b"
   }
  }
 },
 "nbformat": 4,
 "nbformat_minor": 2
}
