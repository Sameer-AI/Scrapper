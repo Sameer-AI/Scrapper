{
 "cells": [
  {
   "cell_type": "code",
   "execution_count": 2,
   "metadata": {},
   "outputs": [],
   "source": [
    "from selenium import webdriver"
   ]
  },
  {
   "cell_type": "code",
   "execution_count": 79,
   "metadata": {},
   "outputs": [],
   "source": [
    "website='https://flight.yatra.com/air-search-ui/dom2/trigger?type=O&viewName=normal&flexi=0&noOfSegments=1&origin=DEL&originCountry=IN&destination=BOM&destinationCountry=IN&flight_depart_date=01%2F11%2F2022&ADT=1&CHD=0&INF=0&class=Economy&source=fresco-home&unqvaldesktop=239490083333'\n",
    "chromeDriverPath=r'E:\\python\\chrome_driver\\chromedriver.exe'"
   ]
  },
  {
   "cell_type": "code",
   "execution_count": 81,
   "metadata": {},
   "outputs": [
    {
     "name": "stderr",
     "output_type": "stream",
     "text": [
      "C:\\Users\\MEGATASK\\AppData\\Local\\Temp\\ipykernel_15512\\2450561451.py:1: DeprecationWarning: executable_path has been deprecated, please pass in a Service object\n",
      "  driver=webdriver.Chrome(executable_path=chromeDriverPath)\n"
     ]
    }
   ],
   "source": [
    "driver=webdriver.Chrome(executable_path=chromeDriverPath)\n",
    "driver.get(website)"
   ]
  },
  {
   "cell_type": "code",
   "execution_count": 15,
   "metadata": {},
   "outputs": [
    {
     "name": "stdout",
     "output_type": "stream",
     "text": [
      "select option fro the type of trip\n",
      "1.ONE WAY \n",
      "2.ROUND TRIP \n",
      "3.MULTI-City\n"
     ]
    }
   ],
   "source": [
    "print(\"select option fro the type of trip\")\n",
    "print(\"1.ONE WAY \\n2.ROUND TRIP \\n3.MULTI-City\")\n",
    "\n",
    "typeOftrip=input(\"Enter the option number\")"
   ]
  },
  {
   "cell_type": "code",
   "execution_count": 34,
   "metadata": {},
   "outputs": [
    {
     "name": "stdout",
     "output_type": "stream",
     "text": [
      "trip selected is : 3\n"
     ]
    }
   ],
   "source": [
    "print(\"trip selected is : {0}\".format(typeOftrip))"
   ]
  },
  {
   "cell_type": "code",
   "execution_count": 47,
   "metadata": {},
   "outputs": [],
   "source": [
    "oneWayTripButton=driver.find_element('xpath','//*[@id=\"BE_flight_form_wrapper\"]/div[1]/div[1]/ul[1]/li[1]/a')\n",
    "twoWayTripButton=driver.find_element('xpath','//*[@id=\"BE_flight_form_wrapper\"]/div[1]/div[1]/ul[1]/li[2]/a')\n",
    "mulityCityTripButton=driver.find_element('xpath','//*[@id=\"BE_flight_form_wrapper\"]/div[1]/div[1]/ul[1]/li[3]/a')\n"
   ]
  },
  {
   "cell_type": "code",
   "execution_count": 65,
   "metadata": {},
   "outputs": [],
   "source": [
    "from selenium.webdriver import Keys\n",
    "\n",
    "departFromLabel=driver.find_element('xpath','//*[@id=\"BE_flight_form_wrapper\"]/div[1]/div[2]/ul/li[1]/ul/li[1]/div/label')\n",
    "departFromLabel.click()\n",
    "\n",
    "\n",
    "\n"
   ]
  },
  {
   "cell_type": "code",
   "execution_count": 66,
   "metadata": {},
   "outputs": [],
   "source": [
    "departLabelInput=driver.find_element('xpath','//*[@id=\"BE_flight_origin_city\"]')\n",
    "departLabelInput.send_keys(\"BOM\")\n"
   ]
  },
  {
   "cell_type": "code",
   "execution_count": 67,
   "metadata": {},
   "outputs": [],
   "source": [
    "departLabelInput.send_keys(Keys.ENTER)\n"
   ]
  },
  {
   "cell_type": "code",
   "execution_count": 68,
   "metadata": {},
   "outputs": [],
   "source": [
    "goingToButton=driver.find_element('xpath','//*[@id=\"BE_flight_arrival_city\"]')\n",
    "# goingToButton.click()\n",
    "goingToButton.send_keys(\"DEL\")"
   ]
  },
  {
   "cell_type": "code",
   "execution_count": 104,
   "metadata": {},
   "outputs": [
    {
     "data": {
      "text/plain": [
       "113"
      ]
     },
     "execution_count": 104,
     "metadata": {},
     "output_type": "execute_result"
    }
   ],
   "source": [
    "info_list=driver.find_elements(\"xpath\",'//div[@class=\"flightItem border-shadow pr\"]/div[1]/div/div[4]/div/div/div/label/div/div[2]')\n",
    "len(info_list)"
   ]
  },
  {
   "cell_type": "code",
   "execution_count": 105,
   "metadata": {},
   "outputs": [
    {
     "name": "stdout",
     "output_type": "stream",
     "text": [
      "9,839\n",
      "10,996\n",
      "11,099\n",
      "11,487\n",
      "11,623\n",
      "11,939\n",
      "12,045\n",
      "12,228\n",
      "12,360\n",
      "12,360\n",
      "12,360\n",
      "12,360\n",
      "12,360\n",
      "12,779\n",
      "12,779\n",
      "12,885\n",
      "13,199\n",
      "13,567\n",
      "13,825\n",
      "13,982\n",
      "14,040\n",
      "14,249\n",
      "14,249\n",
      "14,249\n",
      "14,354\n",
      "14,354\n",
      "14,354\n",
      "14,460\n",
      "14,880\n",
      "14,880\n",
      "14,880\n",
      "14,880\n",
      "14,880\n",
      "14,880\n",
      "14,901\n",
      "14,985\n",
      "14,985\n",
      "15,090\n",
      "15,090\n",
      "15,090\n",
      "15,195\n",
      "15,299\n",
      "15,482\n",
      "15,563\n",
      "15,563\n",
      "15,719\n",
      "15,719\n",
      "15,719\n",
      "15,719\n",
      "15,719\n",
      "15,719\n",
      "15,741\n",
      "15,902\n",
      "15,929\n",
      "15,929\n",
      "15,929\n",
      "16,067\n",
      "16,118\n",
      "16,245\n",
      "16,428\n",
      "16,428\n",
      "16,455\n",
      "16,476\n",
      "16,560\n",
      "16,560\n",
      "16,853\n",
      "17,190\n",
      "17,190\n",
      "17,610\n",
      "17,715\n",
      "18,397\n",
      "19,184\n",
      "19,237\n",
      "19,387\n",
      "19,477\n",
      "19,500\n",
      "20,025\n",
      "20,025\n",
      "20,091\n",
      "20,287\n",
      "20,340\n",
      "20,549\n",
      "20,549\n",
      "20,549\n",
      "21,075\n",
      "22,019\n",
      "22,019\n",
      "22,098\n",
      "24,171\n",
      "24,749\n",
      "24,782\n",
      "25,380\n",
      "25,380\n",
      "25,380\n",
      "25,380\n",
      "25,380\n",
      "25,480\n",
      "25,695\n",
      "25,905\n",
      "27,344\n",
      "27,375\n",
      "27,375\n",
      "27,375\n",
      "27,375\n",
      "27,375\n",
      "27,375\n",
      "27,375\n",
      "28,346\n",
      "28,346\n",
      "30,280\n",
      "36,405\n",
      "39,486\n",
      "42,705\n"
     ]
    }
   ],
   "source": [
    "for info in info_list:\n",
    "    print(info.text)"
   ]
  },
  {
   "cell_type": "code",
   "execution_count": null,
   "metadata": {},
   "outputs": [],
   "source": []
  }
 ],
 "metadata": {
  "kernelspec": {
   "display_name": "Python 3.9.5 ('scrapper': venv)",
   "language": "python",
   "name": "python3"
  },
  "language_info": {
   "codemirror_mode": {
    "name": "ipython",
    "version": 3
   },
   "file_extension": ".py",
   "mimetype": "text/x-python",
   "name": "python",
   "nbconvert_exporter": "python",
   "pygments_lexer": "ipython3",
   "version": "3.9.5"
  },
  "orig_nbformat": 4,
  "vscode": {
   "interpreter": {
    "hash": "506a0d13f91df96375874f1b05449af7914041e2858d76008eeb27bd9afbcd7b"
   }
  }
 },
 "nbformat": 4,
 "nbformat_minor": 2
}
